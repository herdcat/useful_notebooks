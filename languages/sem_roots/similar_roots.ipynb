{
 "cells": [
  {
   "cell_type": "code",
   "execution_count": null,
   "id": "environmental-agriculture",
   "metadata": {},
   "outputs": [],
   "source": [
    "import requests, json, re\n",
    "import ipywidgets as widgets"
   ]
  },
  {
   "cell_type": "code",
   "execution_count": null,
   "id": "finite-payroll",
   "metadata": {},
   "outputs": [],
   "source": [
    "from bs4 import BeautifulSoup"
   ]
  },
  {
   "cell_type": "code",
   "execution_count": null,
   "id": "municipal-arlington",
   "metadata": {},
   "outputs": [],
   "source": [
    "exec_params = {\n",
    "    'output_format' : 'json'\n",
    "}"
   ]
  },
  {
   "cell_type": "code",
   "execution_count": null,
   "id": "operating-confirmation",
   "metadata": {},
   "outputs": [],
   "source": [
    "lang_opts=['Arabic','Hebrew','Sabaic','Ugaritic','Aramaic','Amharic','Phoenician','Syriac','Geez','Akkadian','Qatabanic','Eblaite']\n",
    "sem_langs=widgets.SelectMultiple(\n",
    "    options=lang_opts,\n",
    "    value=[],\n",
    "    description='Languages',\n",
    "    disabled=False\n",
    ")"
   ]
  },
  {
   "cell_type": "code",
   "execution_count": null,
   "id": "shared-renewal",
   "metadata": {},
   "outputs": [],
   "source": [
    "sem_langs"
   ]
  },
  {
   "cell_type": "code",
   "execution_count": null,
   "id": "composite-blind",
   "metadata": {},
   "outputs": [],
   "source": [
    "word_roots = []"
   ]
  },
  {
   "cell_type": "code",
   "execution_count": null,
   "id": "public-tolerance",
   "metadata": {},
   "outputs": [],
   "source": [
    "for num in range(1,468):\n",
    "    try:\n",
    "        resp=requests.get(\"http://www.semiticroots.net/index.php?r=root/view&id={0}\".format(num))\n",
    "        chk_num=0\n",
    "        all_pres=False\n",
    "        tab0 = BeautifulSoup(resp.text, 'lxml').find_all(class_=\"detail-view\")[0]\n",
    "        c_root = BeautifulSoup(resp.text, 'lxml').find_all('h1')[0].text.split(':')[1]\n",
    "        derivs=tab0.text.split('\\n')[-2].replace('Derivatives','')\n",
    "        cncpt=tab0.text.split('\\n')[-3].replace('Concept','')\n",
    "        for lng in sem_langs.value:\n",
    "            if lng.lower() in derivs.lower(): \n",
    "                chk_num+=1\n",
    "        if chk_num == len(sem_langs.value)-1:\n",
    "            word_roots.append(str({\n",
    "                \"root\" : c_root,\n",
    "                \"concept\" : cncpt,\n",
    "                \"derivatives\": derivs\n",
    "            }))\n",
    "    except Exception as e:\n",
    "        print(e)\n",
    "        pass"
   ]
  },
  {
   "cell_type": "code",
   "execution_count": null,
   "id": "nutritional-mechanics",
   "metadata": {},
   "outputs": [],
   "source": [
    "def write_roots(word_roots = [], out_form='json', sem_langs=[]):\n",
    "    if out_form.lower() == 'json':\n",
    "        with open(\"outputs/common-roots_{0}.json\".format(\"-\".join(sem_langs)),'w') as fh:\n",
    "            fh.writelines(word_roots)\n",
    "            print(\"file written: outputs/common-roots_{0}.json\".format(\"-\".join(sem_langs)))\n",
    "        return\n",
    "    if out_form.lower() == 'csv':\n",
    "        root_dicts = []\n",
    "        for rt in rtslist:\n",
    "            try:\n",
    "                root_dicts.append(root_dicts.loads(rt))\n",
    "            except:\n",
    "                print(rt)\n",
    "        csv_data=[]\n",
    "\n",
    "        for x in root_dicts:\n",
    "            try:\n",
    "                for lang in lang_opts:\n",
    "                    x['derivatives'] = x['derivatives'].replace(lang,\" {0}:\".format(lang))\n",
    "                csv_data.append(\"{0},{1},{2}\".format(x['concept'],x['root'],x['derivatives']))\n",
    "                with open(\"outputs/common-roots_{0}.csv\".format(\"-\".join(sem_langs)),'w') as rtfile:\n",
    "                    rtfile.write(\"\\n\".join(sorted(csv_data)))\n",
    "                print(\"file written: outputs/common-roots_{0}.csv\".format(\"-\".join(sem_langs)))\n",
    "            except:\n",
    "                print(type(x))\n",
    "    "
   ]
  },
  {
   "cell_type": "code",
   "execution_count": null,
   "id": "collected-refrigerator",
   "metadata": {},
   "outputs": [],
   "source": [
    "write_roots(word_roots,exec_params['output_format'],sem_langs.value)"
   ]
  },
  {
   "cell_type": "code",
   "execution_count": null,
   "id": "ethical-richardson",
   "metadata": {},
   "outputs": [],
   "source": []
  }
 ],
 "metadata": {
  "kernelspec": {
   "display_name": "Python 3",
   "language": "python",
   "name": "python3"
  },
  "language_info": {
   "codemirror_mode": {
    "name": "ipython",
    "version": 3
   },
   "file_extension": ".py",
   "mimetype": "text/x-python",
   "name": "python",
   "nbconvert_exporter": "python",
   "pygments_lexer": "ipython3",
   "version": "3.9.1"
  }
 },
 "nbformat": 4,
 "nbformat_minor": 5
}
